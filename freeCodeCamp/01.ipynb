{
  "nbformat": 4,
  "nbformat_minor": 0,
  "metadata": {
    "colab": {
      "name": "freeCodeCamp_01.ipynb",
      "provenance": [],
      "toc_visible": true,
      "authorship_tag": "ABX9TyO4dKTPSkmffyOS2KZRLX+2",
      "include_colab_link": true
    },
    "kernelspec": {
      "name": "python3",
      "display_name": "Python 3"
    }
  },
  "cells": [
    {
      "cell_type": "markdown",
      "metadata": {
        "id": "view-in-github",
        "colab_type": "text"
      },
      "source": [
        "<a href=\"https://colab.research.google.com/github/B-Benja/Learning/blob/master/freeCodeCamp/01.ipynb\" target=\"_parent\"><img src=\"https://colab.research.google.com/assets/colab-badge.svg\" alt=\"Open In Colab\"/></a>"
      ]
    },
    {
      "cell_type": "markdown",
      "metadata": {
        "id": "HCdl_ubFzIvV"
      },
      "source": [
        "# FreeCodeCamp\n",
        "Data Science Tutorial"
      ]
    },
    {
      "cell_type": "markdown",
      "metadata": {
        "id": "cXZn1uUo1_1B"
      },
      "source": [
        "## Day 1 (2020-02-11)"
      ]
    },
    {
      "cell_type": "code",
      "metadata": {
        "id": "reYQzwiZ1-Vw"
      },
      "source": [
        ""
      ],
      "execution_count": null,
      "outputs": []
    }
  ]
}